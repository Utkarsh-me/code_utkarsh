{
 "cells": [
  {
   "cell_type": "markdown",
   "id": "4b808de8-eec3-4f3d-935c-5bc4d0a6c217",
   "metadata": {},
   "source": [
    "### Q 1) Create 2 lists from a given list where 1st list will contain all the odd numbers from the original list and the 2nd one will contain all the even numbers\n",
    "L = [1,2,3,4,5,6]"
   ]
  },
  {
   "cell_type": "code",
   "execution_count": 5,
   "id": "e169be1f-c6ec-487d-9623-1861c41a8c13",
   "metadata": {},
   "outputs": [
    {
     "name": "stdout",
     "output_type": "stream",
     "text": [
      "list of even numbers =  [2, 4]\n",
      "list of odd numbers =  [1, 3, 5]\n"
     ]
    }
   ],
   "source": [
    "l=[1,2,3,4,5,6]\n",
    "even_l=[]\n",
    "odd_l=[]\n",
    "\n",
    "for i in range(l[0],len(l)):\n",
    "    if i%2==0:\n",
    "        even_l.append(i)\n",
    "    else:\n",
    "        odd_l.append(i)\n",
    "\n",
    "print(\"list of even numbers = \",even_l)\n",
    "print(\"list of odd numbers = \",odd_l)"
   ]
  },
  {
   "cell_type": "markdown",
   "id": "c04a3acd-3ba5-4363-98e2-c12286162ce5",
   "metadata": {},
   "source": [
    "### Q2) How to take list as input from user"
   ]
  },
  {
   "cell_type": "code",
   "execution_count": 6,
   "id": "43780571-701c-4e73-94b0-8fea393a8344",
   "metadata": {},
   "outputs": [
    {
     "name": "stdin",
     "output_type": "stream",
     "text": [
      "Enter the size of list :  5\n",
      "Enter the item:  1\n",
      "Enter the item:  2\n",
      "Enter the item:  3\n",
      "Enter the item:  4\n",
      "Enter the item:  5\n"
     ]
    },
    {
     "name": "stdout",
     "output_type": "stream",
     "text": [
      "[1, 2, 3, 4, 5]\n"
     ]
    }
   ],
   "source": [
    "l1=[]\n",
    "n=int(input(\"Enter the size of list : \"))\n",
    "for i in range(0,n):\n",
    "    item=int(input(\"Enter the item: \"))\n",
    "    l1.append(item)\n",
    "\n",
    "print(l1)"
   ]
  },
  {
   "cell_type": "markdown",
   "id": "0fd747df-94c6-4f9f-9218-566031255cc9",
   "metadata": {},
   "source": [
    "### Q3) Write a program to merge 2 list without using the + operator\n",
    "- L1 = [1,2,3,4]\n",
    "- L2 = [5,6,7,8]"
   ]
  },
  {
   "cell_type": "code",
   "execution_count": 9,
   "id": "7d1e668e-8f0f-47fa-9cd6-61dc19c68739",
   "metadata": {},
   "outputs": [
    {
     "name": "stdout",
     "output_type": "stream",
     "text": [
      "[1, 2, 3, 4, 5, 6, 7, 8]\n"
     ]
    }
   ],
   "source": [
    "l1=[1,2,3,4]\n",
    "l2=[5,6,7,8]\n",
    "l1.extend(l2)\n",
    "print(l1)"
   ]
  },
  {
   "cell_type": "markdown",
   "id": "138d8cfe-db9d-4925-8fa5-a719bf9b0c21",
   "metadata": {},
   "source": [
    "### Q4) Write a program to replace an item with a different item if found in the list \n",
    " - L = [1,2,3,4,5,3]\n",
    " - replace 3 with 300"
   ]
  },
  {
   "cell_type": "code",
   "execution_count": 11,
   "id": "822de664-31ac-4ba6-9dc3-df156b6ffa90",
   "metadata": {},
   "outputs": [
    {
     "name": "stdout",
     "output_type": "stream",
     "text": [
      "[1, 2, 300, 4, 5, 300]\n"
     ]
    }
   ],
   "source": [
    "l=[1,2,3,4,5,3]\n",
    "\n",
    "for i in range(0,len(l)):\n",
    "    if l[i]==3:\n",
    "        l[i]=300\n",
    "\n",
    "print(l)"
   ]
  },
  {
   "cell_type": "markdown",
   "id": "1a734812-cfee-4650-8310-c4919c080f63",
   "metadata": {},
   "source": [
    "### Q5) Write a program that can convert a 2D list to 1D list"
   ]
  },
  {
   "cell_type": "code",
   "execution_count": 15,
   "id": "ef2d17ad-87c2-499e-9860-7d9c55c894f2",
   "metadata": {},
   "outputs": [
    {
     "name": "stdout",
     "output_type": "stream",
     "text": [
      "[1, 2, 3, 4, 5]\n"
     ]
    }
   ],
   "source": [
    "li=[[1] , [2] , [3] , [4] , [5]]\n",
    "l2=[]\n",
    "for i in li:\n",
    "    for temp in i:\n",
    "        l2.append(temp)\n",
    "\n",
    "print(l2)"
   ]
  },
  {
   "cell_type": "markdown",
   "id": "2307e0fc-d4cf-4f8a-9d13-ac8ee5daf2de",
   "metadata": {},
   "source": [
    "### Q6) Write a program to remove duplicate items from a list\n",
    "L = [1,2,1,2,3,4,5,3,4]"
   ]
  },
  {
   "cell_type": "code",
   "execution_count": 26,
   "id": "7a851ce1-4b6d-437e-864b-099ce7a4e138",
   "metadata": {},
   "outputs": [
    {
     "name": "stdout",
     "output_type": "stream",
     "text": [
      "The original list is : [1, 2, 1, 2, 3, 4, 5, 3, 4]\n",
      "The list after removing duplicates : [1, 2, 3, 4, 5]\n"
     ]
    }
   ],
   "source": [
    "l = [1,2,1,2,3,4,5,3,4]\n",
    "print (\"The original list is : \"+ str(l))\n",
    "\n",
    "# using set() to remove duplicated from list\n",
    "new = list(set(l))\n",
    "\n",
    "print (\"The list after removing duplicates : \"\n",
    "        + str(new))"
   ]
  },
  {
   "cell_type": "markdown",
   "id": "4711b188-f380-4445-b0a0-40194b5cafb8",
   "metadata": {},
   "source": [
    "### Q7) Write a program to check if a list is in ascending order or not"
   ]
  },
  {
   "cell_type": "code",
   "execution_count": 48,
   "id": "654ea3f8-efb1-42d1-bfb3-22f161243147",
   "metadata": {},
   "outputs": [
    {
     "name": "stdout",
     "output_type": "stream",
     "text": [
      "Original list : [1, 2, 3, 4]\n",
      "Yes, List is sorted.\n"
     ]
    }
   ],
   "source": [
    "l1 = [1,2,3,4]\n",
    "print (\"Original list : \" + str(l1))\n",
    "\n",
    "flag = 0\n",
    "l2 = l1[:]\n",
    "l2.sort()\n",
    "if (l2 == l1):\n",
    "\tflag = 1\n",
    "\t\n",
    "# printing result\n",
    "if (flag) :\n",
    "\tpri,5,nt (\"Yes, List is sorted.\")\n",
    "else :\n",
    "\tprint (\"No, List is not sorted.\")\n"
   ]
  },
  {
   "cell_type": "code",
   "execution_count": null,
   "id": "90a7f8f5-9706-472b-8dbc-3021747a1f68",
   "metadata": {},
   "outputs": [],
   "source": []
  }
 ],
 "metadata": {
  "kernelspec": {
   "display_name": "Python 3 (ipykernel)",
   "language": "python",
   "name": "python3"
  },
  "language_info": {
   "codemirror_mode": {
    "name": "ipython",
    "version": 3
   },
   "file_extension": ".py",
   "mimetype": "text/x-python",
   "name": "python",
   "nbconvert_exporter": "python",
   "pygments_lexer": "ipython3",
   "version": "3.11.7"
  }
 },
 "nbformat": 4,
 "nbformat_minor": 5
}
